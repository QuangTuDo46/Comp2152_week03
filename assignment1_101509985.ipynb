{
 "cells": [
  {
   "cell_type": "code",
   "execution_count": null,
   "metadata": {},
   "outputs": [],
   "source": [
    "\"\"\"\n",
    "Author: Quang Tu Do\n",
    "Assignment: #1\n",
    "\"\"\"\n",
    "gym_member = \"Alex Alliton\"  \n",
    "preferred_weight_kg = 20.5 \n",
    "highest_reps = 25 \n",
    "membership_active = True \n",
    "\n",
    "workout_stats = {\n",
    "    \"Alex\": (30, 45, 20), \n",
    "    \"Jamie\": (25, 40, 30),\n",
    "    \"Taylor\": (35, 50, 25)\n",
    "}\n",
    "\n",
    "for friend, activities in workout_stats.items():\n",
    "    total_minutes = sum(activities)\n",
    "    workout_stats[f\"{friend}_Total\"] = total_minutes\n",
    "\n",
    "workout_list = [list(activities) for friend, activities in workout_stats.items() if not friend.endswith(\"_Total\")]\n",
    "\n",
    "yoga_running_minutes = [row[:2] for row in workout_list]\n",
    "print(\"Yoga & Running Minutes for All Friends:\", yoga_running_minutes)\n",
    "\n",
    "weightlifting_last_two = [row[2] for row in workout_list[-2:]]\n",
    "print(\"Weightlifting Minutes for Last Two Friends:\", weightlifting_last_two)\n",
    "\n",
    "for friend, total in workout_stats.items():\n",
    "    if isinstance(total, int) and total >= 120:\n",
    "        print(f\"Great job staying active, {friend.replace('_Total', '')}!\")\n",
    "\n",
    "friend_name = input(\"Enter a friend's name: \")\n",
    "if friend_name in workout_stats:\n",
    "    minutes = workout_stats[friend_name]\n",
    "    total = workout_stats.get(f\"{friend_name}_Total\", sum(minutes))\n",
    "    print(f\"{friend_name}'s Workout Stats: Yoga: {minutes[0]}, Running: {minutes[1]}, Weightlifting: {minutes[2]}, Total: {total}\")\n",
    "else:\n",
    "    print(f\"Friend {friend_name} not found in the records.\")\n",
    "\n",
    "total_minutes_list = {k: v for k, v in workout_stats.items() if isinstance(v, int)}\n",
    "highest_friend = max(total_minutes_list, key=total_minutes_list.get).replace(\"_Total\", \"\")\n",
    "lowest_friend = min(total_minutes_list, key=total_minutes_list.get).replace(\"_Total\", \"\")\n",
    "\n",
    "print(f\"Most Active Friend: {highest_friend}\")\n",
    "print(f\"Least Active Friend: {lowest_friend}\")\n"
   ]
  }
 ],
 "metadata": {
  "language_info": {
   "name": "python"
  }
 },
 "nbformat": 4,
 "nbformat_minor": 2
}
